{
 "cells": [
  {
   "cell_type": "markdown",
   "metadata": {},
   "source": [
    "Only major sources and ones from where [code] is copied\n",
    "\n",
    "## Tobias\n",
    "### Inventory\n",
    "- https://www.youtube.com/watch?v=AoD_F1fSFFg&t=507s&ab_channel=SoloGameDev \"Unity Inventory System - Easy Tutorial (2022)\" - 13.03.\n",
    "- https://www.youtube.com/watch?v=-GWjA6dixV4&t=102s&pp=ygUPdW5pdHkgbWFpbiBtZW51 \"5 Minute MAIN MENU Unity Tutorial\" - 13.03."
   ]
  }
 ],
 "metadata": {
  "language_info": {
   "name": "python"
  }
 },
 "nbformat": 4,
 "nbformat_minor": 2
}
