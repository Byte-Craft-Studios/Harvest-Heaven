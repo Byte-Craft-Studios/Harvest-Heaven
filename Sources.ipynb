{
 "cells": [
  {
   "cell_type": "markdown",
   "metadata": {},
   "source": [
    "Nur Hauptquellen, von denen starke Inspiration oder Code kopiert wurde.\n",
    "Quellen, die z.B. für allgemeines Verständnis vom Thema genutzt worden sind, werden hier nicht aufgeführt. Deren Menge ist zu zahlreich, als dass man sie eindeutig zuordnen könnte - Dokumentation dieser Quellen hätte außerdem die Entwicklungszeit erheblich in die Länge gezogen.\n",
    "\n",
    "Beispiel für nicht gelistete Quellen:\n",
    "Nach \"unity game manager event system\" gegooglet\n",
    "z.B. https://gamedevbeginner.com/events-and-delegates-in-unity/ durchgelesen, manchmal auch aus Interesse\n",
    "Daraus gelerntes Wissen anwenden, nach und nach verändern, hier sogar ganz und gar fallenlassen.\n",
    "\n",
    "## Tobias\n",
    "### Inventory\n",
    "- https://www.youtube.com/watch?v=AoD_F1fSFFg&t=507s&ab_channel=SoloGameDev \"Unity Inventory System - Easy Tutorial (2022)\" - 13.03.\n",
    "- https://www.youtube.com/watch?v=-GWjA6dixV4&t=102s&pp=ygUPdW5pdHkgbWFpbiBtZW51 \"5 Minute MAIN MENU Unity Tutorial\" - 13.03.\n",
    "- Unity Documentation: https://docs.unity.com/ - als Grundlegende Quelle"
   ]
  }
 ],
 "metadata": {
  "language_info": {
   "name": "python"
  }
 },
 "nbformat": 4,
 "nbformat_minor": 2
}
