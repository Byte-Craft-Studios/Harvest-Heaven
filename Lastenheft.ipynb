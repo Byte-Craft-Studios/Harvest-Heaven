{
 "cells": [
  {
   "cell_type": "markdown",
   "metadata": {},
   "source": [
    "28.02. - 3:30 Tobias\n",
    "- barebone main menu\n",
    "- mostly research/trying stuff out\n",
    "- TODO (/problem): buttons and text (most of the time) very blurry"
   ]
  }
 ],
 "metadata": {
  "language_info": {
   "name": "python"
  }
 },
 "nbformat": 4,
 "nbformat_minor": 2
}
