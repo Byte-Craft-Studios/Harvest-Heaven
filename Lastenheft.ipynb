{
 "cells": [
  {
   "cell_type": "markdown",
   "metadata": {},
   "source": [
    "### 28.02. - 3:30h Tobias\n",
    "- barebone main menu\n",
    "- mostly research/trying stuff out\n",
    "- TODO (/problem): buttons and text (most of the time) very blurry (solved (sort of), 02.03.)\n",
    "\n",
    "### 01.03. - 3:45 Tobias\n",
    "- barebone inventory design\n",
    "- open with Button-Press (\"I\")\n",
    "- now feel comfortable wiht Unity and UI (/Sprites)\n",
    "\n",
    "### 02.03. - 3:00 Tobias\n",
    "- finished inventory design + Hotbar\n",
    "- began work on pause menu\n",
    "- began work on game manager (to combine/call scripts properly)\n",
    "\n",
    "### 04.03. - 2:00 Tobias\n",
    "- synced resume-button with the \"Game Manager\" accross scenes\n",
    "- working on proper game manager\n",
    "- co-working with Jannis N"
   ]
  }
 ],
 "metadata": {
  "language_info": {
   "name": "python"
  }
 },
 "nbformat": 4,
 "nbformat_minor": 2
}
